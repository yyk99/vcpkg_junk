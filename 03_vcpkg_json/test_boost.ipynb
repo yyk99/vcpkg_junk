{
 "cells": [
  {
   "cell_type": "code",
   "execution_count": null,
   "metadata": {},
   "outputs": [],
   "source": [
    "from shapely import wkt\n",
    "import matplotlib.pyplot as plt\n",
    "from matplotlib.patches import Polygon"
   ]
  },
  {
   "cell_type": "code",
   "execution_count": null,
   "metadata": {},
   "outputs": [],
   "source": [
    "wkt_string = \"POLYGON ((0 0, 0 1, 1 1, 1 0, 0 0))\"\n",
    "geometry = wkt.loads(wkt_string)\n",
    "geometry"
   ]
  },
  {
   "cell_type": "code",
   "execution_count": null,
   "metadata": {},
   "outputs": [],
   "source": [
    "# \"POLYGON((0 0, 0 10, 5 5, 10 10, 10 0, 5 5, 0 0))\"\n",
    "wkt_string = \"POLYGON((0 0, 0 10, 5 5, 10 10, 10 0, 5 5, 0 0))\"\n",
    "geometry = wkt.loads(wkt_string)\n",
    "geometry\n"
   ]
  },
  {
   "cell_type": "code",
   "execution_count": null,
   "metadata": {},
   "outputs": [],
   "source": [
    "fig, ax = plt.subplots()\n",
    "x, y = geometry.exterior.xy\n",
    "ax.plot(x, y)\n",
    "\n",
    "# For polygons, use patches\n",
    "if geometry.geom_type == 'Polygon':\n",
    "    polygon = Polygon(list(zip(x, y)), facecolor='lightblue', edgecolor='black')\n",
    "    ax.add_patch(polygon)\n",
    "ax.set_title(geometry.geom_type)\n",
    "ax.set_aspect('equal', adjustable='box')\n",
    "plt.show()"
   ]
  },
  {
   "cell_type": "code",
   "execution_count": null,
   "metadata": {},
   "outputs": [],
   "source": [
    "t = \"POLYGON((0.5 0.5, 0.5 1.5, 1.5 1.5, 1.5 0.5, 0.5 0.5))\"\n",
    "geometry = wkt.loads(t)\n",
    "geometry"
   ]
  },
  {
   "cell_type": "code",
   "execution_count": null,
   "metadata": {},
   "outputs": [],
   "source": [
    "import matplotlib.pyplot as plt\n",
    "from shapely.geometry import Point, LineString, Polygon\n",
    "\n",
    "# Define geometries\n",
    "point = Point(0, 0)\n",
    "line = LineString([(1, 1), (3, 3)])\n",
    "polygon = wkt.loads(\"POLYGON((0.5 0.5, 0.5 1.5, 1.5 1.5, 1.5 0.5, 0.5 0.5))\")\n",
    "polygon2 = wkt.loads(\"POLYGON((0 0, 0 2, 2 2, 2 0, 0 0))\")\n",
    "\n",
    "# Create plot\n",
    "fig, ax = plt.subplots()\n",
    "\n",
    "# Plot geometries\n",
    "x_point, y_point = point.xy\n",
    "ax.plot(x_point, y_point, marker='o', color='red', label='Point')\n",
    "\n",
    "x_line, y_line = line.xy\n",
    "ax.plot(x_line, y_line, color='blue', label='Line')\n",
    "\n",
    "x_polygon, y_polygon = polygon.exterior.xy\n",
    "ax.plot(x_polygon, y_polygon, color='green', label='Polygon')\n",
    "\n",
    "x_polygon, y_polygon = polygon2.exterior.xy\n",
    "ax.plot(x_polygon, y_polygon, color='green', label='Polygon2')\n",
    "\n",
    "\n",
    "# Customize plot\n",
    "ax.set_xlabel('X-axis')\n",
    "ax.set_ylabel('Y-axis')\n",
    "ax.set_title('Multiple Geometries')\n",
    "ax.legend()\n",
    "ax.set_aspect('equal', adjustable='box') # Ensure equal scaling for x and y axes\n",
    "\n",
    "# Show plot\n",
    "plt.show()"
   ]
  },
  {
   "cell_type": "code",
   "execution_count": null,
   "metadata": {},
   "outputs": [],
   "source": []
  }
 ],
 "metadata": {
  "kernelspec": {
   "display_name": "Python 3",
   "language": "python",
   "name": "python3"
  },
  "language_info": {
   "codemirror_mode": {
    "name": "ipython",
    "version": 3
   },
   "file_extension": ".py",
   "mimetype": "text/x-python",
   "name": "python",
   "nbconvert_exporter": "python",
   "pygments_lexer": "ipython3",
   "version": "3.12.3"
  }
 },
 "nbformat": 4,
 "nbformat_minor": 2
}
